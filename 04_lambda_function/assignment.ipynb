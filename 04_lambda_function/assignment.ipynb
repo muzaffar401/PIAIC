{
 "cells": [
  {
   "cell_type": "markdown",
   "metadata": {},
   "source": [
    "# 📝 Assignment\n",
    "\n",
    "## 1. Calculator\n",
    "- Create a basic calculator that can perform addition, subtraction, multiplication, and division.\n",
    "\n",
    "## 2. Food Calories\n",
    "- Make a program where the user enters 3 fruits, and the total calories are calculated based on predefined values.\n",
    "\n",
    "## 3. Lambda Functions\n",
    "Write lambda functions for:\n",
    "- Squaring a number  \n",
    "- Multiplying two numbers  \n",
    "- Checking if a number is positive  \n"
   ]
  },
  {
   "cell_type": "code",
   "execution_count": 3,
   "metadata": {},
   "outputs": [
    {
     "data": {
      "text/plain": [
       "79"
      ]
     },
     "execution_count": 3,
     "metadata": {},
     "output_type": "execute_result"
    }
   ],
   "source": [
    "num1 = int(input(\"enter first number\"))\n",
    "num2 = int(input(\"enter second number\"))\n",
    "operator = input(\"enter operator\")\n",
    "\n",
    "def calculate(num1,num2,operator):\n",
    "\n",
    "    if operator == \"+\":\n",
    "      return num1 + num2\n",
    "    elif operator == \"-\":\n",
    "      return num1 - num2\n",
    "    elif operator == \"*\":\n",
    "      return num1 * num2\n",
    "    elif operator == \"/\":\n",
    "      return num1 / num2\n",
    "    else:\n",
    "      print(\"invalid operator\")\n",
    "\n",
    "\n",
    "calculate(num1,num2,operator)"
   ]
  },
  {
   "cell_type": "code",
   "execution_count": 4,
   "metadata": {},
   "outputs": [
    {
     "name": "stdout",
     "output_type": "stream",
     "text": [
      "Fruit: apple\n",
      "Fruit: banana\n",
      "Fruit: grapes\n",
      "Total calories: 230\n"
     ]
    }
   ],
   "source": [
    "def calculate_food_caleries():\n",
    "    data = {\n",
    "        \"apple\": 89,\n",
    "        \"banana\": 76,\n",
    "        \"grapes\": 65,\n",
    "        \"orange\": 86,\n",
    "        \"kiwi\": 55,\n",
    "    }\n",
    "    \n",
    "    fruit_1 = input(\"Enter your first fruit: \").lower()  # Convert to lowercase\n",
    "    fruit_2 = input(\"Enter your second fruit: \").lower()  # Convert to lowercase\n",
    "    fruit_3 = input(\"Enter your third fruit: \").lower()  # Convert to lowercase\n",
    "\n",
    "    total = 0\n",
    "\n",
    "    for food in [fruit_1, fruit_2, fruit_3]:\n",
    "        print(f\"Fruit: {food}\")\n",
    "        if food in data:\n",
    "            total += data[food]\n",
    "        else:\n",
    "            print(f\"Sorry, {food} is not in the list of available fruits.\")\n",
    "\n",
    "    print(f\"Total calories: {total}\")\n",
    "\n",
    "\n",
    "calculate_food_caleries()\n"
   ]
  },
  {
   "cell_type": "code",
   "execution_count": 5,
   "metadata": {},
   "outputs": [
    {
     "name": "stdout",
     "output_type": "stream",
     "text": [
      "8\n"
     ]
    }
   ],
   "source": [
    "import math\n",
    "square = lambda a: math.sqrt(a) \n",
    "result = int(square(64))\n",
    "print(result)"
   ]
  },
  {
   "cell_type": "code",
   "execution_count": 6,
   "metadata": {},
   "outputs": [
    {
     "name": "stdout",
     "output_type": "stream",
     "text": [
      "30\n"
     ]
    }
   ],
   "source": [
    "multiply = lambda a,b: a*b\n",
    "result = multiply(5,6)\n",
    "print(result)"
   ]
  },
  {
   "cell_type": "code",
   "execution_count": 7,
   "metadata": {},
   "outputs": [
    {
     "name": "stdout",
     "output_type": "stream",
     "text": [
      "5 is a positive number\n"
     ]
    }
   ],
   "source": [
    "condition = lambda a: a >= 0\n",
    "input = int(input(\"enter number\"))\n",
    "result = condition(input)\n",
    "if result:\n",
    "    print(f\"{input} is a positive number\")\n",
    "else:\n",
    "    print(f\"{input} is a negative number\")"
   ]
  }
 ],
 "metadata": {
  "kernelspec": {
   "display_name": "Python 3",
   "language": "python",
   "name": "python3"
  },
  "language_info": {
   "codemirror_mode": {
    "name": "ipython",
    "version": 3
   },
   "file_extension": ".py",
   "mimetype": "text/x-python",
   "name": "python",
   "nbconvert_exporter": "python",
   "pygments_lexer": "ipython3",
   "version": "3.12.2"
  }
 },
 "nbformat": 4,
 "nbformat_minor": 2
}
